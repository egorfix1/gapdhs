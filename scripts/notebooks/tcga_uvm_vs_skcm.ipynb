{
 "cells": [
  {
   "cell_type": "code",
   "execution_count": 1,
   "metadata": {},
   "outputs": [],
   "source": [
    "import numpy as np\n",
    "import pandas as pd\n",
    "import scipy\n",
    "\n",
    "import matplotlib as mpl\n",
    "import matplotlib.pyplot as plt\n",
    "import seaborn as sns"
   ]
  },
  {
   "cell_type": "code",
   "execution_count": 2,
   "metadata": {},
   "outputs": [
    {
     "data": {
      "text/html": [
       "<div>\n",
       "<style scoped>\n",
       "    .dataframe tbody tr th:only-of-type {\n",
       "        vertical-align: middle;\n",
       "    }\n",
       "\n",
       "    .dataframe tbody tr th {\n",
       "        vertical-align: top;\n",
       "    }\n",
       "\n",
       "    .dataframe thead th {\n",
       "        text-align: right;\n",
       "    }\n",
       "</style>\n",
       "<table border=\"1\" class=\"dataframe\">\n",
       "  <thead>\n",
       "    <tr style=\"text-align: right;\">\n",
       "      <th></th>\n",
       "      <th>TCGA-VD-A8KB-01A</th>\n",
       "      <th>TCGA-VD-AA8P-01A</th>\n",
       "      <th>TCGA-V4-A9EK-01A</th>\n",
       "      <th>TCGA-YZ-A985-01A</th>\n",
       "      <th>TCGA-WC-A88A-01A</th>\n",
       "      <th>TCGA-WC-A882-01A</th>\n",
       "      <th>TCGA-V4-A9ED-01A</th>\n",
       "      <th>TCGA-WC-A87W-01A</th>\n",
       "      <th>TCGA-VD-AA8O-01A</th>\n",
       "      <th>TCGA-V4-A9EV-01A</th>\n",
       "      <th>...</th>\n",
       "      <th>TCGA-VD-A8KI-01A</th>\n",
       "      <th>TCGA-VD-A8KL-01A</th>\n",
       "      <th>TCGA-V4-A9ET-01A</th>\n",
       "      <th>TCGA-V4-A9EO-01A</th>\n",
       "      <th>TCGA-V4-A9EU-01A</th>\n",
       "      <th>TCGA-WC-A87T-01A</th>\n",
       "      <th>TCGA-WC-AA9A-01A</th>\n",
       "      <th>TCGA-V4-A9EA-01A</th>\n",
       "      <th>TCGA-RZ-AB0B-01A</th>\n",
       "      <th>TCGA-V4-A9F8-01A</th>\n",
       "    </tr>\n",
       "    <tr>\n",
       "      <th>Ensembl_ID</th>\n",
       "      <th></th>\n",
       "      <th></th>\n",
       "      <th></th>\n",
       "      <th></th>\n",
       "      <th></th>\n",
       "      <th></th>\n",
       "      <th></th>\n",
       "      <th></th>\n",
       "      <th></th>\n",
       "      <th></th>\n",
       "      <th></th>\n",
       "      <th></th>\n",
       "      <th></th>\n",
       "      <th></th>\n",
       "      <th></th>\n",
       "      <th></th>\n",
       "      <th></th>\n",
       "      <th></th>\n",
       "      <th></th>\n",
       "      <th></th>\n",
       "      <th></th>\n",
       "    </tr>\n",
       "  </thead>\n",
       "  <tbody>\n",
       "    <tr>\n",
       "      <th>ENSG00000111640.13</th>\n",
       "      <td>934288.962067</td>\n",
       "      <td>960580.720267</td>\n",
       "      <td>870827.006552</td>\n",
       "      <td>948082.655137</td>\n",
       "      <td>952818.479121</td>\n",
       "      <td>981194.144273</td>\n",
       "      <td>943472.099882</td>\n",
       "      <td>888935.771083</td>\n",
       "      <td>911412.515864</td>\n",
       "      <td>954446.321952</td>\n",
       "      <td>...</td>\n",
       "      <td>934084.723752</td>\n",
       "      <td>966355.507232</td>\n",
       "      <td>959330.94674</td>\n",
       "      <td>927775.771118</td>\n",
       "      <td>983731.909175</td>\n",
       "      <td>941917.970591</td>\n",
       "      <td>986698.520584</td>\n",
       "      <td>930003.085815</td>\n",
       "      <td>971768.021837</td>\n",
       "      <td>954708.901675</td>\n",
       "    </tr>\n",
       "    <tr>\n",
       "      <th>ENSG00000105679.7</th>\n",
       "      <td>65711.037933</td>\n",
       "      <td>39419.279733</td>\n",
       "      <td>129172.993448</td>\n",
       "      <td>51917.344863</td>\n",
       "      <td>47181.520879</td>\n",
       "      <td>18805.855727</td>\n",
       "      <td>56527.900118</td>\n",
       "      <td>111064.228917</td>\n",
       "      <td>88587.484136</td>\n",
       "      <td>45553.678048</td>\n",
       "      <td>...</td>\n",
       "      <td>65915.276248</td>\n",
       "      <td>33644.492768</td>\n",
       "      <td>40669.05326</td>\n",
       "      <td>72224.228882</td>\n",
       "      <td>16268.090825</td>\n",
       "      <td>58082.029409</td>\n",
       "      <td>13301.479416</td>\n",
       "      <td>69996.914185</td>\n",
       "      <td>28231.978163</td>\n",
       "      <td>45291.098325</td>\n",
       "    </tr>\n",
       "  </tbody>\n",
       "</table>\n",
       "<p>2 rows × 80 columns</p>\n",
       "</div>"
      ],
      "text/plain": [
       "                    TCGA-VD-A8KB-01A  TCGA-VD-AA8P-01A  TCGA-V4-A9EK-01A  \\\n",
       "Ensembl_ID                                                                 \n",
       "ENSG00000111640.13     934288.962067     960580.720267     870827.006552   \n",
       "ENSG00000105679.7       65711.037933      39419.279733     129172.993448   \n",
       "\n",
       "                    TCGA-YZ-A985-01A  TCGA-WC-A88A-01A  TCGA-WC-A882-01A  \\\n",
       "Ensembl_ID                                                                 \n",
       "ENSG00000111640.13     948082.655137     952818.479121     981194.144273   \n",
       "ENSG00000105679.7       51917.344863      47181.520879      18805.855727   \n",
       "\n",
       "                    TCGA-V4-A9ED-01A  TCGA-WC-A87W-01A  TCGA-VD-AA8O-01A  \\\n",
       "Ensembl_ID                                                                 \n",
       "ENSG00000111640.13     943472.099882     888935.771083     911412.515864   \n",
       "ENSG00000105679.7       56527.900118     111064.228917      88587.484136   \n",
       "\n",
       "                    TCGA-V4-A9EV-01A  ...  TCGA-VD-A8KI-01A  TCGA-VD-A8KL-01A  \\\n",
       "Ensembl_ID                            ...                                       \n",
       "ENSG00000111640.13     954446.321952  ...     934084.723752     966355.507232   \n",
       "ENSG00000105679.7       45553.678048  ...      65915.276248      33644.492768   \n",
       "\n",
       "                    TCGA-V4-A9ET-01A  TCGA-V4-A9EO-01A  TCGA-V4-A9EU-01A  \\\n",
       "Ensembl_ID                                                                 \n",
       "ENSG00000111640.13      959330.94674     927775.771118     983731.909175   \n",
       "ENSG00000105679.7        40669.05326      72224.228882      16268.090825   \n",
       "\n",
       "                    TCGA-WC-A87T-01A  TCGA-WC-AA9A-01A  TCGA-V4-A9EA-01A  \\\n",
       "Ensembl_ID                                                                 \n",
       "ENSG00000111640.13     941917.970591     986698.520584     930003.085815   \n",
       "ENSG00000105679.7       58082.029409      13301.479416      69996.914185   \n",
       "\n",
       "                    TCGA-RZ-AB0B-01A  TCGA-V4-A9F8-01A  \n",
       "Ensembl_ID                                              \n",
       "ENSG00000111640.13     971768.021837     954708.901675  \n",
       "ENSG00000105679.7       28231.978163      45291.098325  \n",
       "\n",
       "[2 rows x 80 columns]"
      ]
     },
     "execution_count": 2,
     "metadata": {},
     "output_type": "execute_result"
    }
   ],
   "source": [
    "uvm = pd.read_csv('./TCGA-UVM.htseq_fpkm.tsv', sep='\\t')\n",
    "uvm_g = uvm[uvm['Ensembl_ID'].isin(['ENSG00000111640.13','ENSG00000105679.7'])]\n",
    "uvm_g = uvm_g.set_index('Ensembl_ID')\n",
    "uvm_g = uvm_g.rpow(2)-1\n",
    "for i in uvm_g.columns.values:\n",
    "    uvm_g[i] = (uvm_g[i]/uvm_g[i].sum())*1000000\n",
    "uvm_g"
   ]
  },
  {
   "cell_type": "code",
   "execution_count": 3,
   "metadata": {},
   "outputs": [
    {
     "data": {
      "text/html": [
       "<div>\n",
       "<style scoped>\n",
       "    .dataframe tbody tr th:only-of-type {\n",
       "        vertical-align: middle;\n",
       "    }\n",
       "\n",
       "    .dataframe tbody tr th {\n",
       "        vertical-align: top;\n",
       "    }\n",
       "\n",
       "    .dataframe thead th {\n",
       "        text-align: right;\n",
       "    }\n",
       "</style>\n",
       "<table border=\"1\" class=\"dataframe\">\n",
       "  <thead>\n",
       "    <tr style=\"text-align: right;\">\n",
       "      <th></th>\n",
       "      <th>TCGA-EE-A2GJ-06A</th>\n",
       "      <th>TCGA-EE-A2GI-06A</th>\n",
       "      <th>TCGA-WE-A8ZM-06A</th>\n",
       "      <th>TCGA-DA-A1IA-06A</th>\n",
       "      <th>TCGA-D3-A51H-06A</th>\n",
       "      <th>TCGA-XV-A9VZ-01A</th>\n",
       "      <th>TCGA-FS-A1ZE-06A</th>\n",
       "      <th>TCGA-D3-A8GB-06A</th>\n",
       "      <th>TCGA-D3-A8GL-06A</th>\n",
       "      <th>TCGA-BF-A5EP-01A</th>\n",
       "      <th>...</th>\n",
       "      <th>TCGA-EE-A2GP-06A</th>\n",
       "      <th>TCGA-EE-A2M6-06A</th>\n",
       "      <th>TCGA-EE-A3J3-06A</th>\n",
       "      <th>TCGA-FS-A1ZF-06A</th>\n",
       "      <th>TCGA-D9-A6EC-06A</th>\n",
       "      <th>TCGA-FR-A8YC-06A</th>\n",
       "      <th>TCGA-EB-A4XL-01A</th>\n",
       "      <th>TCGA-EE-A3AC-06A</th>\n",
       "      <th>TCGA-EE-A3J4-06A</th>\n",
       "      <th>TCGA-BF-A1Q0-01A</th>\n",
       "    </tr>\n",
       "    <tr>\n",
       "      <th>Ensembl_ID</th>\n",
       "      <th></th>\n",
       "      <th></th>\n",
       "      <th></th>\n",
       "      <th></th>\n",
       "      <th></th>\n",
       "      <th></th>\n",
       "      <th></th>\n",
       "      <th></th>\n",
       "      <th></th>\n",
       "      <th></th>\n",
       "      <th></th>\n",
       "      <th></th>\n",
       "      <th></th>\n",
       "      <th></th>\n",
       "      <th></th>\n",
       "      <th></th>\n",
       "      <th></th>\n",
       "      <th></th>\n",
       "      <th></th>\n",
       "      <th></th>\n",
       "      <th></th>\n",
       "    </tr>\n",
       "  </thead>\n",
       "  <tbody>\n",
       "    <tr>\n",
       "      <th>ENSG00000111640.13</th>\n",
       "      <td>998225.848903</td>\n",
       "      <td>993841.095728</td>\n",
       "      <td>999665.255201</td>\n",
       "      <td>997355.271768</td>\n",
       "      <td>998336.786224</td>\n",
       "      <td>999679.718822</td>\n",
       "      <td>959355.736404</td>\n",
       "      <td>989015.564796</td>\n",
       "      <td>999701.462424</td>\n",
       "      <td>994960.854446</td>\n",
       "      <td>...</td>\n",
       "      <td>992858.689583</td>\n",
       "      <td>999142.895535</td>\n",
       "      <td>995013.972586</td>\n",
       "      <td>999776.806911</td>\n",
       "      <td>999972.09498</td>\n",
       "      <td>990580.209984</td>\n",
       "      <td>973818.481682</td>\n",
       "      <td>985285.803162</td>\n",
       "      <td>998685.613803</td>\n",
       "      <td>999514.777359</td>\n",
       "    </tr>\n",
       "    <tr>\n",
       "      <th>ENSG00000105679.7</th>\n",
       "      <td>1774.151097</td>\n",
       "      <td>6158.904272</td>\n",
       "      <td>334.744799</td>\n",
       "      <td>2644.728232</td>\n",
       "      <td>1663.213776</td>\n",
       "      <td>320.281178</td>\n",
       "      <td>40644.263596</td>\n",
       "      <td>10984.435204</td>\n",
       "      <td>298.537576</td>\n",
       "      <td>5039.145554</td>\n",
       "      <td>...</td>\n",
       "      <td>7141.310417</td>\n",
       "      <td>857.104465</td>\n",
       "      <td>4986.027414</td>\n",
       "      <td>223.193089</td>\n",
       "      <td>27.90502</td>\n",
       "      <td>9419.790016</td>\n",
       "      <td>26181.518318</td>\n",
       "      <td>14714.196838</td>\n",
       "      <td>1314.386197</td>\n",
       "      <td>485.222641</td>\n",
       "    </tr>\n",
       "  </tbody>\n",
       "</table>\n",
       "<p>2 rows × 472 columns</p>\n",
       "</div>"
      ],
      "text/plain": [
       "                    TCGA-EE-A2GJ-06A  TCGA-EE-A2GI-06A  TCGA-WE-A8ZM-06A  \\\n",
       "Ensembl_ID                                                                 \n",
       "ENSG00000111640.13     998225.848903     993841.095728     999665.255201   \n",
       "ENSG00000105679.7        1774.151097       6158.904272        334.744799   \n",
       "\n",
       "                    TCGA-DA-A1IA-06A  TCGA-D3-A51H-06A  TCGA-XV-A9VZ-01A  \\\n",
       "Ensembl_ID                                                                 \n",
       "ENSG00000111640.13     997355.271768     998336.786224     999679.718822   \n",
       "ENSG00000105679.7        2644.728232       1663.213776        320.281178   \n",
       "\n",
       "                    TCGA-FS-A1ZE-06A  TCGA-D3-A8GB-06A  TCGA-D3-A8GL-06A  \\\n",
       "Ensembl_ID                                                                 \n",
       "ENSG00000111640.13     959355.736404     989015.564796     999701.462424   \n",
       "ENSG00000105679.7       40644.263596      10984.435204        298.537576   \n",
       "\n",
       "                    TCGA-BF-A5EP-01A  ...  TCGA-EE-A2GP-06A  TCGA-EE-A2M6-06A  \\\n",
       "Ensembl_ID                            ...                                       \n",
       "ENSG00000111640.13     994960.854446  ...     992858.689583     999142.895535   \n",
       "ENSG00000105679.7        5039.145554  ...       7141.310417        857.104465   \n",
       "\n",
       "                    TCGA-EE-A3J3-06A  TCGA-FS-A1ZF-06A  TCGA-D9-A6EC-06A  \\\n",
       "Ensembl_ID                                                                 \n",
       "ENSG00000111640.13     995013.972586     999776.806911      999972.09498   \n",
       "ENSG00000105679.7        4986.027414        223.193089          27.90502   \n",
       "\n",
       "                    TCGA-FR-A8YC-06A  TCGA-EB-A4XL-01A  TCGA-EE-A3AC-06A  \\\n",
       "Ensembl_ID                                                                 \n",
       "ENSG00000111640.13     990580.209984     973818.481682     985285.803162   \n",
       "ENSG00000105679.7        9419.790016      26181.518318      14714.196838   \n",
       "\n",
       "                    TCGA-EE-A3J4-06A  TCGA-BF-A1Q0-01A  \n",
       "Ensembl_ID                                              \n",
       "ENSG00000111640.13     998685.613803     999514.777359  \n",
       "ENSG00000105679.7        1314.386197        485.222641  \n",
       "\n",
       "[2 rows x 472 columns]"
      ]
     },
     "execution_count": 3,
     "metadata": {},
     "output_type": "execute_result"
    }
   ],
   "source": [
    "skcm = pd.read_csv('./TCGA-SKCM.htseq_fpkm.tsv', sep='\\t')\n",
    "skcm_g = skcm[skcm['Ensembl_ID'].isin(['ENSG00000111640.13','ENSG00000105679.7'])]\n",
    "skcm_g = skcm_g.set_index('Ensembl_ID')\n",
    "skcm_g = skcm_g.rpow(2)-1\n",
    "for i in skcm_g.columns.values:\n",
    "    skcm_g[i] = (skcm_g[i]/skcm_g[i].sum())*1000000\n",
    "skcm_g"
   ]
  },
  {
   "cell_type": "code",
   "execution_count": 4,
   "metadata": {},
   "outputs": [
    {
     "name": "stdout",
     "output_type": "stream",
     "text": [
      "ENSG00000111640.13\n"
     ]
    }
   ],
   "source": [
    "for i in uvm['Ensembl_ID'].unique():\n",
    "    if \"ENSG00000111640\" in i:\n",
    "        print(i)"
   ]
  },
  {
   "cell_type": "code",
   "execution_count": 5,
   "metadata": {},
   "outputs": [
    {
     "name": "stdout",
     "output_type": "stream",
     "text": [
      "ENSG00000105679.7\n"
     ]
    }
   ],
   "source": [
    "for j in uvm['Ensembl_ID'].unique():\n",
    "    if \"ENSG00000105679\" in j:\n",
    "        print(j)"
   ]
  },
  {
   "cell_type": "code",
   "execution_count": 6,
   "metadata": {},
   "outputs": [
    {
     "name": "stdout",
     "output_type": "stream",
     "text": [
      "ENSG00000111640.13\n"
     ]
    }
   ],
   "source": [
    "for i in skcm['Ensembl_ID'].unique():\n",
    "    if \"ENSG00000111640\" in i:\n",
    "        print(i)"
   ]
  },
  {
   "cell_type": "code",
   "execution_count": 7,
   "metadata": {},
   "outputs": [
    {
     "name": "stdout",
     "output_type": "stream",
     "text": [
      "ENSG00000105679.7\n"
     ]
    }
   ],
   "source": [
    "for j in skcm['Ensembl_ID'].unique():\n",
    "    if \"ENSG00000105679\" in j:\n",
    "        print(j)"
   ]
  },
  {
   "cell_type": "code",
   "execution_count": 8,
   "metadata": {},
   "outputs": [],
   "source": [
    "uvm_t = uvm_g.T\n",
    "uvm_true = uvm_t.rename(columns={'ENSG00000111640.13':'GAPDH_UVM', 'ENSG00000105679.7':'GAPDHS_UVM'})"
   ]
  },
  {
   "cell_type": "code",
   "execution_count": 9,
   "metadata": {},
   "outputs": [],
   "source": [
    "skcm_t = skcm_g.T\n",
    "skcm_true = skcm_t.rename(columns={'ENSG00000111640.13':'GAPDH_SKCM', 'ENSG00000105679.7':'GAPDHS_SKCM'})"
   ]
  },
  {
   "cell_type": "code",
   "execution_count": 10,
   "metadata": {},
   "outputs": [
    {
     "data": {
      "image/png": "[encoded data removed]",
      "text/plain": [
       "<Figure size 1080x720 with 1 Axes>"
      ]
     },
     "metadata": {
      "needs_background": "light"
     },
     "output_type": "display_data"
    }
   ],
   "source": [
    "plt.figure(figsize=(15,10))\n",
    "sns.boxplot(data=uvm_true)\n",
    "sns.stripplot(data=uvm_true, size=6, color='black')\n",
    "plt.title(\"TPM in UVM\")\n",
    "plt.ylabel(\"TPM\")\n",
    "plt.xlabel(\"Type of protein\")\n",
    "plt.show()"
   ]
  },
  {
   "cell_type": "code",
   "execution_count": 11,
   "metadata": {},
   "outputs": [
    {
     "data": {
      "image/png": "[encoded data removed]",
      "text/plain": [
       "<Figure size 1080x720 with 1 Axes>"
      ]
     },
     "metadata": {
      "needs_background": "light"
     },
     "output_type": "display_data"
    }
   ],
   "source": [
    "plt.figure(figsize=(15,10))\n",
    "sns.boxplot(data=skcm_true)\n",
    "sns.stripplot(data=skcm_true, size=6, color='black')\n",
    "plt.title(\"TPM in SKCM\")\n",
    "plt.ylabel(\"TPM\")\n",
    "plt.xlabel(\"Type of protein\")\n",
    "plt.show()"
   ]
  },
  {
   "cell_type": "code",
   "execution_count": null,
   "metadata": {},
   "outputs": [],
   "source": []
  },
  {
   "cell_type": "code",
   "execution_count": 12,
   "metadata": {},
   "outputs": [
    {
     "data": {
      "text/html": [
       "<div>\n",
       "<style scoped>\n",
       "    .dataframe tbody tr th:only-of-type {\n",
       "        vertical-align: middle;\n",
       "    }\n",
       "\n",
       "    .dataframe tbody tr th {\n",
       "        vertical-align: top;\n",
       "    }\n",
       "\n",
       "    .dataframe thead th {\n",
       "        text-align: right;\n",
       "    }\n",
       "</style>\n",
       "<table border=\"1\" class=\"dataframe\">\n",
       "  <thead>\n",
       "    <tr style=\"text-align: right;\">\n",
       "      <th></th>\n",
       "      <th>GAPDH_UVM</th>\n",
       "      <th>GAPDHS_UVM</th>\n",
       "      <th>GAPDH_SKCM</th>\n",
       "      <th>GAPDHS_SKCM</th>\n",
       "    </tr>\n",
       "  </thead>\n",
       "  <tbody>\n",
       "    <tr>\n",
       "      <th>TCGA-VD-A8KB-01A</th>\n",
       "      <td>934288.962067</td>\n",
       "      <td>65711.037933</td>\n",
       "      <td>NaN</td>\n",
       "      <td>NaN</td>\n",
       "    </tr>\n",
       "    <tr>\n",
       "      <th>TCGA-VD-AA8P-01A</th>\n",
       "      <td>960580.720267</td>\n",
       "      <td>39419.279733</td>\n",
       "      <td>NaN</td>\n",
       "      <td>NaN</td>\n",
       "    </tr>\n",
       "    <tr>\n",
       "      <th>TCGA-V4-A9EK-01A</th>\n",
       "      <td>870827.006552</td>\n",
       "      <td>129172.993448</td>\n",
       "      <td>NaN</td>\n",
       "      <td>NaN</td>\n",
       "    </tr>\n",
       "    <tr>\n",
       "      <th>TCGA-YZ-A985-01A</th>\n",
       "      <td>948082.655137</td>\n",
       "      <td>51917.344863</td>\n",
       "      <td>NaN</td>\n",
       "      <td>NaN</td>\n",
       "    </tr>\n",
       "    <tr>\n",
       "      <th>TCGA-WC-A88A-01A</th>\n",
       "      <td>952818.479121</td>\n",
       "      <td>47181.520879</td>\n",
       "      <td>NaN</td>\n",
       "      <td>NaN</td>\n",
       "    </tr>\n",
       "    <tr>\n",
       "      <th>...</th>\n",
       "      <td>...</td>\n",
       "      <td>...</td>\n",
       "      <td>...</td>\n",
       "      <td>...</td>\n",
       "    </tr>\n",
       "    <tr>\n",
       "      <th>TCGA-FR-A8YC-06A</th>\n",
       "      <td>NaN</td>\n",
       "      <td>NaN</td>\n",
       "      <td>990580.209984</td>\n",
       "      <td>9419.790016</td>\n",
       "    </tr>\n",
       "    <tr>\n",
       "      <th>TCGA-EB-A4XL-01A</th>\n",
       "      <td>NaN</td>\n",
       "      <td>NaN</td>\n",
       "      <td>973818.481682</td>\n",
       "      <td>26181.518318</td>\n",
       "    </tr>\n",
       "    <tr>\n",
       "      <th>TCGA-EE-A3AC-06A</th>\n",
       "      <td>NaN</td>\n",
       "      <td>NaN</td>\n",
       "      <td>985285.803162</td>\n",
       "      <td>14714.196838</td>\n",
       "    </tr>\n",
       "    <tr>\n",
       "      <th>TCGA-EE-A3J4-06A</th>\n",
       "      <td>NaN</td>\n",
       "      <td>NaN</td>\n",
       "      <td>998685.613803</td>\n",
       "      <td>1314.386197</td>\n",
       "    </tr>\n",
       "    <tr>\n",
       "      <th>TCGA-BF-A1Q0-01A</th>\n",
       "      <td>NaN</td>\n",
       "      <td>NaN</td>\n",
       "      <td>999514.777359</td>\n",
       "      <td>485.222641</td>\n",
       "    </tr>\n",
       "  </tbody>\n",
       "</table>\n",
       "<p>552 rows × 4 columns</p>\n",
       "</div>"
      ],
      "text/plain": [
       "                      GAPDH_UVM     GAPDHS_UVM     GAPDH_SKCM   GAPDHS_SKCM\n",
       "TCGA-VD-A8KB-01A  934288.962067   65711.037933            NaN           NaN\n",
       "TCGA-VD-AA8P-01A  960580.720267   39419.279733            NaN           NaN\n",
       "TCGA-V4-A9EK-01A  870827.006552  129172.993448            NaN           NaN\n",
       "TCGA-YZ-A985-01A  948082.655137   51917.344863            NaN           NaN\n",
       "TCGA-WC-A88A-01A  952818.479121   47181.520879            NaN           NaN\n",
       "...                         ...            ...            ...           ...\n",
       "TCGA-FR-A8YC-06A            NaN            NaN  990580.209984   9419.790016\n",
       "TCGA-EB-A4XL-01A            NaN            NaN  973818.481682  26181.518318\n",
       "TCGA-EE-A3AC-06A            NaN            NaN  985285.803162  14714.196838\n",
       "TCGA-EE-A3J4-06A            NaN            NaN  998685.613803   1314.386197\n",
       "TCGA-BF-A1Q0-01A            NaN            NaN  999514.777359    485.222641\n",
       "\n",
       "[552 rows x 4 columns]"
      ]
     },
     "execution_count": 12,
     "metadata": {},
     "output_type": "execute_result"
    }
   ],
   "source": [
    "tcga = pd.concat([uvm_true, skcm_true])\n",
    "tcga"
   ]
  },
  {
   "cell_type": "code",
   "execution_count": 13,
   "metadata": {},
   "outputs": [
    {
     "data": {
      "image/png": "[encoded data removed]",
      "text/plain": [
       "<Figure size 1080x720 with 1 Axes>"
      ]
     },
     "metadata": {
      "needs_background": "light"
     },
     "output_type": "display_data"
    }
   ],
   "source": [
    "plt.figure(figsize=(15,10))\n",
    "sns.boxplot(data=tcga)\n",
    "sns.stripplot(data=tcga, size=6, color='black')\n",
    "plt.title(\"TPM of GAPDH and GAPDHS in UVM amd SKCM\")\n",
    "plt.ylabel(\"TPM\")\n",
    "plt.xlabel(\"Type of protein and melanoma\")\n",
    "plt.show()"
   ]
  },
  {
   "cell_type": "markdown",
   "metadata": {},
   "source": [
    "## GAPDHS/GAPDH"
   ]
  },
  {
   "cell_type": "code",
   "execution_count": 18,
   "metadata": {},
   "outputs": [
    {
     "data": {
      "text/html": [
       "<div>\n",
       "<style scoped>\n",
       "    .dataframe tbody tr th:only-of-type {\n",
       "        vertical-align: middle;\n",
       "    }\n",
       "\n",
       "    .dataframe tbody tr th {\n",
       "        vertical-align: top;\n",
       "    }\n",
       "\n",
       "    .dataframe thead th {\n",
       "        text-align: right;\n",
       "    }\n",
       "</style>\n",
       "<table border=\"1\" class=\"dataframe\">\n",
       "  <thead>\n",
       "    <tr style=\"text-align: right;\">\n",
       "      <th></th>\n",
       "      <th>UVM</th>\n",
       "      <th>SKCM</th>\n",
       "    </tr>\n",
       "  </thead>\n",
       "  <tbody>\n",
       "    <tr>\n",
       "      <th>TCGA-VD-A8KB-01A</th>\n",
       "      <td>0.070333</td>\n",
       "      <td>NaN</td>\n",
       "    </tr>\n",
       "    <tr>\n",
       "      <th>TCGA-VD-AA8P-01A</th>\n",
       "      <td>0.041037</td>\n",
       "      <td>NaN</td>\n",
       "    </tr>\n",
       "    <tr>\n",
       "      <th>TCGA-V4-A9EK-01A</th>\n",
       "      <td>0.148334</td>\n",
       "      <td>NaN</td>\n",
       "    </tr>\n",
       "    <tr>\n",
       "      <th>TCGA-YZ-A985-01A</th>\n",
       "      <td>0.054760</td>\n",
       "      <td>NaN</td>\n",
       "    </tr>\n",
       "    <tr>\n",
       "      <th>TCGA-WC-A88A-01A</th>\n",
       "      <td>0.049518</td>\n",
       "      <td>NaN</td>\n",
       "    </tr>\n",
       "    <tr>\n",
       "      <th>...</th>\n",
       "      <td>...</td>\n",
       "      <td>...</td>\n",
       "    </tr>\n",
       "    <tr>\n",
       "      <th>TCGA-FR-A8YC-06A</th>\n",
       "      <td>NaN</td>\n",
       "      <td>0.009509</td>\n",
       "    </tr>\n",
       "    <tr>\n",
       "      <th>TCGA-EB-A4XL-01A</th>\n",
       "      <td>NaN</td>\n",
       "      <td>0.026885</td>\n",
       "    </tr>\n",
       "    <tr>\n",
       "      <th>TCGA-EE-A3AC-06A</th>\n",
       "      <td>NaN</td>\n",
       "      <td>0.014934</td>\n",
       "    </tr>\n",
       "    <tr>\n",
       "      <th>TCGA-EE-A3J4-06A</th>\n",
       "      <td>NaN</td>\n",
       "      <td>0.001316</td>\n",
       "    </tr>\n",
       "    <tr>\n",
       "      <th>TCGA-BF-A1Q0-01A</th>\n",
       "      <td>NaN</td>\n",
       "      <td>0.000485</td>\n",
       "    </tr>\n",
       "  </tbody>\n",
       "</table>\n",
       "<p>552 rows × 2 columns</p>\n",
       "</div>"
      ],
      "text/plain": [
       "                       UVM      SKCM\n",
       "TCGA-VD-A8KB-01A  0.070333       NaN\n",
       "TCGA-VD-AA8P-01A  0.041037       NaN\n",
       "TCGA-V4-A9EK-01A  0.148334       NaN\n",
       "TCGA-YZ-A985-01A  0.054760       NaN\n",
       "TCGA-WC-A88A-01A  0.049518       NaN\n",
       "...                    ...       ...\n",
       "TCGA-FR-A8YC-06A       NaN  0.009509\n",
       "TCGA-EB-A4XL-01A       NaN  0.026885\n",
       "TCGA-EE-A3AC-06A       NaN  0.014934\n",
       "TCGA-EE-A3J4-06A       NaN  0.001316\n",
       "TCGA-BF-A1Q0-01A       NaN  0.000485\n",
       "\n",
       "[552 rows x 2 columns]"
      ]
     },
     "execution_count": 18,
     "metadata": {},
     "output_type": "execute_result"
    }
   ],
   "source": [
    "tcga_tpm_norm = tcga.copy()\n",
    "tcga_tpm_norm['UVM']=tcga_tpm_norm['GAPDHS_UVM']/tcga_tpm_norm['GAPDH_UVM']\n",
    "tcga_tpm_norm['SKCM']=tcga_tpm_norm['GAPDHS_SKCM']/tcga_tpm_norm['GAPDH_SKCM']\n",
    "new_df = tcga_tpm_norm[['UVM','SKCM']].copy()\n",
    "new_df"
   ]
  },
  {
   "cell_type": "code",
   "execution_count": 19,
   "metadata": {},
   "outputs": [],
   "source": [
    "from matplotlib.pyplot import savefig"
   ]
  },
  {
   "cell_type": "code",
   "execution_count": 20,
   "metadata": {},
   "outputs": [
    {
     "data": {
      "text/plain": [
       "<Figure size 1080x720 with 0 Axes>"
      ]
     },
     "metadata": {},
     "output_type": "display_data"
    },
    {
     "data": {
      "image/png": "[encoded data removed]",
      "text/plain": [
       "<Figure size 1080x720 with 1 Axes>"
      ]
     },
     "metadata": {
      "needs_background": "light"
     },
     "output_type": "display_data"
    }
   ],
   "source": [
    "plt.figure(figsize=(15,10))\n",
    "ax = plt.figure(figsize=(15,10)).add_subplot(121)\n",
    "#font = {'weight': 'normal', 'size': 16}\n",
    "sns.barplot(data=new_df, palette=['#ff5a5f', '#1797ad'])\n",
    "#sns.stripplot(data=tcga_tpm, size=6, color='black')\n",
    "plt.title(\"TPM($\\it{GAPDHS}$)/TPM($\\it{GAPDH}$) в образцах UVM и SKCM\")\n",
    "plt.ylabel(\"TPM($\\it{GAPDHS}$)/TPM($\\it{GAPDH}$)\")\n",
    "plt.xlabel(\"Тип меланомы\")\n",
    "#plt.tick_params(axis='x', colors='#f5f5f5')    #setting up X-axis tick color to red\n",
    "#plt.tick_params(axis='y', colors='#f5f5f5')\n",
    "#ax.spines['left'].set_color('#f5f5f5')        # setting up Y-axis tick color to red\n",
    "#ax.spines['top'].set_color('#f5f5f5')\n",
    "#ax.spines['bottom'].set_color('#f5f5f5') \n",
    "#ax.spines['right'].set_color('#f5f5f5')\n",
    "#plt.savefig('post1.png', transparent=True)\n",
    "plt.show()"
   ]
  },
  {
   "cell_type": "code",
   "execution_count": null,
   "metadata": {},
   "outputs": [],
   "source": []
  }
 ],
 "metadata": {
  "kernelspec": {
   "display_name": "Python 3",
   "language": "python",
   "name": "python3"
  },
  "language_info": {
   "codemirror_mode": {
    "name": "ipython",
    "version": 3
   },
   "file_extension": ".py",
   "mimetype": "text/x-python",
   "name": "python",
   "nbconvert_exporter": "python",
   "pygments_lexer": "ipython3",
   "version": "3.8.5"
  }
 },
 "nbformat": 4,
 "nbformat_minor": 4
}
